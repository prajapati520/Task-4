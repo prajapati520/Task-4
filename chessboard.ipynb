{
 "cells": [
  {
   "cell_type": "code",
   "execution_count": null,
   "metadata": {},
   "outputs": [],
   "source": [
    "import pandas as pd\n",
    "import numpy as np\n",
    "import cv2 as cv"
   ]
  },
  {
   "cell_type": "code",
   "execution_count": null,
   "metadata": {},
   "outputs": [],
   "source": [
    "width = 7\n",
    "height = 7\n",
    "pixels = 100\n",
    " \n",
    "row = (width + 1) * pixels\n",
    "col = (height + 1) * pixels\n",
    "image = np.zeros((col, row, 3), dtype=np.uint8)\n",
    "image.fill(255)\n",
    "y0 = 0\n",
    "fill_color = 0\n",
    "for j in range(0,height + 1):\n",
    "    for i in range(0,width+1):\n",
    "        x0 = i *pixels\n",
    "        y0 = j *pixels\n",
    "        rect_start = (x0,y0)\n",
    " \n",
    "        x1 = x0 + pixels\n",
    "        y1 = y0 + pixels\n",
    "        rect_end = (x1,y1)\n",
    "        image[y0:y1,x0:x1] = fill_color\n",
    "        if width % 2: \n",
    "            if i != width:\n",
    "                fill_color = (0 if ( fill_color == 255) else 255)\n",
    "        else:\n",
    "            if i != width + 1:\n",
    "                fill_color = (0 if ( fill_color == 255) else 255)\n",
    " \n",
    "cv.imwrite(\"%d_Width_%d_Height.jpg\"%(width, height),image)\n",
    "cv.imshow(\"hi\", image)\n",
    " \n",
    "cv.waitKey()"
   ]
  },
  {
   "cell_type": "code",
   "execution_count": null,
   "metadata": {},
   "outputs": [],
   "source": []
  }
 ],
 "metadata": {
  "kernelspec": {
   "display_name": "Python 3",
   "language": "python",
   "name": "python3"
  },
  "language_info": {
   "codemirror_mode": {
    "name": "ipython",
    "version": 3
   },
   "file_extension": ".py",
   "mimetype": "text/x-python",
   "name": "python",
   "nbconvert_exporter": "python",
   "pygments_lexer": "ipython3",
   "version": "3.8.3"
  }
 },
 "nbformat": 4,
 "nbformat_minor": 5
}
