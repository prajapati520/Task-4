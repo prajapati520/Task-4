{
 "cells": [
  {
   "cell_type": "code",
   "execution_count": null,
   "metadata": {},
   "outputs": [],
   "source": [
    "import cv2"
   ]
  },
  {
   "cell_type": "code",
   "execution_count": null,
   "metadata": {},
   "outputs": [],
   "source": [
    "import pandas as pd"
   ]
  },
  {
   "cell_type": "code",
   "execution_count": null,
   "metadata": {},
   "outputs": [],
   "source": [
    "photo = cv2.imread('dhoni.jpeg')"
   ]
  },
  {
   "cell_type": "code",
   "execution_count": null,
   "metadata": {},
   "outputs": [],
   "source": [
    "photo1 = cv2.imread('virat.jpeg')\n",
    " "
   ]
  },
  {
   "cell_type": "code",
   "execution_count": null,
   "metadata": {},
   "outputs": [],
   "source": [
    "model = cv2.CascadeClassifier('haarcascade_frontalface_alt.xml')"
   ]
  },
  {
   "cell_type": "code",
   "execution_count": null,
   "metadata": {},
   "outputs": [],
   "source": [
    "model"
   ]
  },
  {
   "cell_type": "code",
   "execution_count": null,
   "metadata": {},
   "outputs": [],
   "source": [
    "face = model.detectMultiScale(photo)\n",
    "\n",
    "x5 = face[0][0]\n",
    "y5 = face[0][1]\n",
    "x6 = x5 + face[0][2]\n",
    "y6 = y5 + face[0][3]\n",
    "\n",
    "sel_photo = cv2.rectangle(photo , (x5 , y5) , (x6 , y6) , [0 , 255 , 0] , 5)\n"
   ]
  },
  {
   "cell_type": "markdown",
   "metadata": {},
   "source": [
    "model.detectMultiScale(photo)"
   ]
  },
  {
   "cell_type": "code",
   "execution_count": null,
   "metadata": {},
   "outputs": [],
   "source": [
    "\n",
    "\n",
    "face1 = model.detectMultiScale(photo1)\n",
    "a1 = face1[0][0]\n",
    "b1 = face1[0][1]\n",
    "a2 = a1 + face1[0][2]\n",
    "b2 = b1 + face1[0][3]\n",
    "sel_photo = cv2.rectangle(photo1 , (a1 , b1) , (a2 , b2) , [0 , 255 , 0] , 5)\n"
   ]
  },
  {
   "cell_type": "code",
   "execution_count": null,
   "metadata": {
    "scrolled": true
   },
   "outputs": [],
   "source": [
    "face"
   ]
  },
  {
   "cell_type": "code",
   "execution_count": null,
   "metadata": {},
   "outputs": [],
   "source": [
    "pic1 = photo[y5 : y6 , x5 : x6]\n",
    "pic2 = photo1[b1 : b2 , a1 : a2]\n",
    "size1 = pic1.shape\n",
    "size2 = pic2.shape\n",
    "pic2 = cv2.resize(pic2 , (size1[0] , size1[1]))\n",
    "pic1 = cv2.resize(pic1 , (size2[0] , size2[1]))\n",
    "pic1.shape\n",
    "\n",
    "photo[y5 : y6 , x5 : x6] = pic2\n",
    "photo1[b1 : b2 , a1 : a2] = pic1"
   ]
  },
  {
   "cell_type": "code",
   "execution_count": null,
   "metadata": {},
   "outputs": [],
   "source": [
    "cv2.imshow('hi' , photo1)\n",
    "cv2.waitKey(200)\n",
    "        \n",
    "cv2.destroyAllWindows()"
   ]
  },
  {
   "cell_type": "code",
   "execution_count": null,
   "metadata": {},
   "outputs": [],
   "source": [
    "cv2.imshow('hi' , photo)\n",
    "cv2.waitKey(200)\n",
    "        \n",
    "cv2.destroyAllWindows()"
   ]
  },
  {
   "cell_type": "code",
   "execution_count": null,
   "metadata": {},
   "outputs": [],
   "source": []
  }
 ],
 "metadata": {
  "kernelspec": {
   "display_name": "Python 3",
   "language": "python",
   "name": "python3"
  },
  "language_info": {
   "codemirror_mode": {
    "name": "ipython",
    "version": 3
   },
   "file_extension": ".py",
   "mimetype": "text/x-python",
   "name": "python",
   "nbconvert_exporter": "python",
   "pygments_lexer": "ipython3",
   "version": "3.8.3"
  }
 },
 "nbformat": 4,
 "nbformat_minor": 5
}
